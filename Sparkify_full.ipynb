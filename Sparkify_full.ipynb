{
 "cells": [
  {
   "cell_type": "markdown",
   "metadata": {},
   "source": [
    "# Sparkify Full dataset run"
   ]
  },
  {
   "cell_type": "code",
   "execution_count": 1,
   "metadata": {},
   "outputs": [
    {
     "data": {
      "application/vnd.jupyter.widget-view+json": {
       "model_id": "ac5ed51aa16f4c3180e2528df560dab1",
       "version_major": 2,
       "version_minor": 0
      },
      "text/plain": [
       "VBox()"
      ]
     },
     "metadata": {},
     "output_type": "display_data"
    },
    {
     "name": "stdout",
     "output_type": "stream",
     "text": [
      "Starting Spark application\n"
     ]
    },
    {
     "data": {
      "text/html": [
       "<table>\n",
       "<tr><th>ID</th><th>YARN Application ID</th><th>Kind</th><th>State</th><th>Spark UI</th><th>Driver log</th><th>Current session?</th></tr><tr><td>9</td><td>application_1631347673663_0010</td><td>pyspark</td><td>idle</td><td><a target=\"_blank\" href=\"http://ip-172-31-5-47.us-east-2.compute.internal:20888/proxy/application_1631347673663_0010/\">Link</a></td><td><a target=\"_blank\" href=\"http://ip-172-31-13-254.us-east-2.compute.internal:8042/node/containerlogs/container_1631347673663_0010_01_000001/livy\">Link</a></td><td>✔</td></tr></table>"
      ],
      "text/plain": [
       "<IPython.core.display.HTML object>"
      ]
     },
     "metadata": {},
     "output_type": "display_data"
    },
    {
     "data": {
      "application/vnd.jupyter.widget-view+json": {
       "model_id": "",
       "version_major": 2,
       "version_minor": 0
      },
      "text/plain": [
       "FloatProgress(value=0.0, bar_style='info', description='Progress:', layout=Layout(height='25px', width='50%'),…"
      ]
     },
     "metadata": {},
     "output_type": "display_data"
    },
    {
     "name": "stdout",
     "output_type": "stream",
     "text": [
      "SparkSession available as 'spark'.\n"
     ]
    },
    {
     "data": {
      "application/vnd.jupyter.widget-view+json": {
       "model_id": "",
       "version_major": 2,
       "version_minor": 0
      },
      "text/plain": [
       "FloatProgress(value=0.0, bar_style='info', description='Progress:', layout=Layout(height='25px', width='50%'),…"
      ]
     },
     "metadata": {},
     "output_type": "display_data"
    }
   ],
   "source": [
    "from pyspark.sql import SparkSession\n",
    "from pyspark.sql import functions as F\n",
    "from pyspark.sql.types import IntegerType, DateType\n",
    "from pyspark.sql.window import Window\n",
    "\n",
    "from pyspark.ml.feature import CountVectorizer, IDF\n",
    "from pyspark.ml.feature import OneHotEncoder, VectorAssembler\n",
    "from pyspark.ml.classification import RandomForestClassifier, GBTClassifier\n",
    "from pyspark.ml import Pipeline\n",
    "from pyspark.ml.evaluation import MulticlassClassificationEvaluator\n",
    "from pyspark.ml.tuning import CrossValidator, ParamGridBuilder\n",
    "from pyspark.mllib.evaluation import MulticlassMetrics\n",
    "from pyspark.ml.pipeline import PipelineModel\n",
    "\n",
    "from datetime import datetime\n",
    "import numpy as np"
   ]
  },
  {
   "cell_type": "code",
   "execution_count": 2,
   "metadata": {},
   "outputs": [
    {
     "data": {
      "application/vnd.jupyter.widget-view+json": {
       "model_id": "7125a22049de4d17b3b50e081f22bb98",
       "version_major": 2,
       "version_minor": 0
      },
      "text/plain": [
       "VBox()"
      ]
     },
     "metadata": {},
     "output_type": "display_data"
    },
    {
     "data": {
      "application/vnd.jupyter.widget-view+json": {
       "model_id": "",
       "version_major": 2,
       "version_minor": 0
      },
      "text/plain": [
       "FloatProgress(value=0.0, bar_style='info', description='Progress:', layout=Layout(height='25px', width='50%'),…"
      ]
     },
     "metadata": {},
     "output_type": "display_data"
    }
   ],
   "source": [
    "# Create spark session\n",
    "spark = SparkSession \\\n",
    "    .builder \\\n",
    "    .appName(\"Sparkify\") \\\n",
    "    .getOrCreate()"
   ]
  },
  {
   "cell_type": "code",
   "execution_count": 21,
   "metadata": {},
   "outputs": [
    {
     "data": {
      "application/vnd.jupyter.widget-view+json": {
       "model_id": "39439940fc9c4693960c48ce9dee7e82",
       "version_major": 2,
       "version_minor": 0
      },
      "text/plain": [
       "VBox()"
      ]
     },
     "metadata": {},
     "output_type": "display_data"
    },
    {
     "data": {
      "application/vnd.jupyter.widget-view+json": {
       "model_id": "",
       "version_major": 2,
       "version_minor": 0
      },
      "text/plain": [
       "FloatProgress(value=0.0, bar_style='info', description='Progress:', layout=Layout(height='25px', width='50%'),…"
      ]
     },
     "metadata": {},
     "output_type": "display_data"
    }
   ],
   "source": [
    "# rimestamp coefficient\n",
    "TS_COEF = 1000*60*60*24\n",
    "\n",
    "# today date\n",
    "TODAY = str(datetime.today().date())\n",
    "\n",
    "# S3 storage path\n",
    "my_storage = 's3://sparkify-saved-models/'"
   ]
  },
  {
   "cell_type": "markdown",
   "metadata": {},
   "source": [
    "# Load and Clean Dataset"
   ]
  },
  {
   "cell_type": "code",
   "execution_count": 4,
   "metadata": {
    "scrolled": true
   },
   "outputs": [
    {
     "data": {
      "application/vnd.jupyter.widget-view+json": {
       "model_id": "facaa9f28f2d4ad6995541901ee03307",
       "version_major": 2,
       "version_minor": 0
      },
      "text/plain": [
       "VBox()"
      ]
     },
     "metadata": {},
     "output_type": "display_data"
    },
    {
     "data": {
      "application/vnd.jupyter.widget-view+json": {
       "model_id": "",
       "version_major": 2,
       "version_minor": 0
      },
      "text/plain": [
       "FloatProgress(value=0.0, bar_style='info', description='Progress:', layout=Layout(height='25px', width='50%'),…"
      ]
     },
     "metadata": {},
     "output_type": "display_data"
    },
    {
     "name": "stdout",
     "output_type": "stream",
     "text": [
      "Row(artist='Popol Vuh', auth='Logged In', firstName='Shlok', gender='M', itemInSession=278, lastName='Johnson', length=524.32934, level='paid', location='Dallas-Fort Worth-Arlington, TX', method='PUT', page='NextSong', registration=1533734541000, sessionId=22683, song='Ich mache einen Spiegel - Dream Part 4', status=200, ts=1538352001000, userAgent='\"Mozilla/5.0 (Windows NT 6.1; WOW64) AppleWebKit/537.36 (KHTML, like Gecko) Chrome/36.0.1985.143 Safari/537.36\"', userId='1749042')"
     ]
    }
   ],
   "source": [
    "# Read in full sparkify dataset\n",
    "event_data = \"s3n://udacity-dsnd/sparkify/sparkify_event_data.json\"\n",
    "df = spark.read.json(event_data)\n",
    "df.head()"
   ]
  },
  {
   "cell_type": "markdown",
   "metadata": {},
   "source": [
    "# Feature Engineering"
   ]
  },
  {
   "cell_type": "markdown",
   "metadata": {},
   "source": [
    "### Compile the modelling dataset\n",
    "1. Exclude records with empty *userId*.\n",
    "2. Add label: 1 = Churn, 0 = Not churn. Condition: `page='Cancellation Confirmation'`\n",
    "3. Remove records of `page='Cancellation Confirmation'`.\n",
    "4. Sort dataframe by `userId` and `ts`\n",
    "5. Aggregate features at user level:\n",
    "    * create list of songs\n",
    "    * create list of artists\n",
    "    * list of page events (Cancellation Confirmation preliminary filtered out to remove the leak)\n",
    "    * session frequency\n",
    "    * average number of songs per session\n",
    "    * binary feature: Male gender = 1/0\n",
    "    * binary feature: paid acoount = 1/0\n",
    "    * lifetime (days): time difference between last activity and registration date"
   ]
  },
  {
   "cell_type": "markdown",
   "metadata": {},
   "source": [
    "**Step 1**: Aggregate user-level properties"
   ]
  },
  {
   "cell_type": "code",
   "execution_count": 5,
   "metadata": {},
   "outputs": [
    {
     "data": {
      "application/vnd.jupyter.widget-view+json": {
       "model_id": "832093dcce9b4f8ca64a370ec933d949",
       "version_major": 2,
       "version_minor": 0
      },
      "text/plain": [
       "VBox()"
      ]
     },
     "metadata": {},
     "output_type": "display_data"
    },
    {
     "data": {
      "application/vnd.jupyter.widget-view+json": {
       "model_id": "",
       "version_major": 2,
       "version_minor": 0
      },
      "text/plain": [
       "FloatProgress(value=0.0, bar_style='info', description='Progress:', layout=Layout(height='25px', width='50%'),…"
      ]
     },
     "metadata": {},
     "output_type": "display_data"
    }
   ],
   "source": [
    "w = Window.partitionBy(df.userId).orderBy(df.ts)\n",
    "w_uid = Window.partitionBy(df.userId)\n",
    "\n",
    "preprocessed_df = (df\n",
    "                   .filter(F.col('userId')!='') #filter out guests\n",
    "                   .withColumn('cancelled', (F.col('page')=='Cancellation Confirmation').cast(IntegerType())) \n",
    "                   .withColumn('churn', F.max('cancelled').over(w_uid)) # define churn label\n",
    "                   .withColumn('current_level', F.last('level').over(w)) # sort levels of subscription by date\n",
    "                   .withColumn('last_userAgent', F.last('userAgent').over(w)) # sort agents by date\n",
    "                   .filter(F.col('page')!='Cancellation Confirmation') #remove page event from dataset\n",
    "                   .groupby('userId') # aggregate features at user level\n",
    "                   .agg(F.collect_list('artist').alias('artist_list'), # combine into list all artist\n",
    "                        F.collect_list('song').alias('song_list'), # combine into list all songs\n",
    "                        F.collect_list('page').alias('page_list'), # combine into list all page events\n",
    "                        F.countDistinct('sessionId').alias('session_count'), # calculate total number of sessions\n",
    "                        F.count('song').alias('song_count'), # calculate total number of songs\n",
    "                        F.first('gender').alias('gender'), # gender data\n",
    "                        F.last('current_level').alias('current_level'), # take last level value\n",
    "                        F.max('churn').alias('churn'), \n",
    "                        F.min('ts').alias('min_ts'), # start timestamp \n",
    "                        F.max('ts').alias('max_ts'), # end timestamp\n",
    "                        F.last('last_userAgent').alias('last_userAgent'), # recent agent\n",
    "                        F.min('registration').alias('registration') # registration date\n",
    "                       )\n",
    "                   # frequency of sessions\n",
    "                   .withColumn('session_freq', F.col('session_count')/((F.col('max_ts')-F.col('min_ts'))/TS_COEF))\n",
    "                   # avg number of songs per session\n",
    "                   .withColumn('song_per_session', F.col('song_count')/F.col('session_count'))\n",
    "                   # binary feature: Male = 1/0\n",
    "                   .withColumn('gender_Male', (F.col('gender')=='M').cast(IntegerType()))\n",
    "                   # binary feature: paid = 1/0\n",
    "                   .withColumn('is_paid', (F.col('current_level')=='paid').cast(IntegerType()))\n",
    "                   # lifetime\n",
    "                   .withColumn('lifetime', (F.col('max_ts')-F.col('registration'))/TS_COEF)\n",
    "                   # extract device/OS pointers from agent\n",
    "                   .withColumn('agent_Windows', F.col('last_userAgent').contains('Windows').cast(IntegerType()))\n",
    "                   .withColumn('agent_Mac', F.col('last_userAgent').contains('Mac').cast(IntegerType()))\n",
    "                   .withColumn('agent_iPhone', F.col('last_userAgent').contains('iPhone').cast(IntegerType()))\n",
    "                   .withColumn('agent_iPad', F.col('last_userAgent').contains('iPad').cast(IntegerType()))\n",
    "                   .withColumn('agent_Linux', F.col('last_userAgent').contains('Linix').cast(IntegerType()))\n",
    "                  ).cache()"
   ]
  },
  {
   "cell_type": "code",
   "execution_count": 6,
   "metadata": {
    "scrolled": true
   },
   "outputs": [
    {
     "data": {
      "application/vnd.jupyter.widget-view+json": {
       "model_id": "26936becb3df498980947aa720f029f6",
       "version_major": 2,
       "version_minor": 0
      },
      "text/plain": [
       "VBox()"
      ]
     },
     "metadata": {},
     "output_type": "display_data"
    },
    {
     "data": {
      "application/vnd.jupyter.widget-view+json": {
       "model_id": "",
       "version_major": 2,
       "version_minor": 0
      },
      "text/plain": [
       "FloatProgress(value=0.0, bar_style='info', description='Progress:', layout=Layout(height='25px', width='50%'),…"
      ]
     },
     "metadata": {},
     "output_type": "display_data"
    },
    {
     "name": "stdout",
     "output_type": "stream",
     "text": [
      "22278"
     ]
    }
   ],
   "source": [
    "# Number of unique users in dataset\n",
    "preprocessed_df.count()"
   ]
  },
  {
   "cell_type": "code",
   "execution_count": 7,
   "metadata": {},
   "outputs": [
    {
     "data": {
      "application/vnd.jupyter.widget-view+json": {
       "model_id": "47f1b4dd84354e488d30cebd733ed5dd",
       "version_major": 2,
       "version_minor": 0
      },
      "text/plain": [
       "VBox()"
      ]
     },
     "metadata": {},
     "output_type": "display_data"
    },
    {
     "data": {
      "application/vnd.jupyter.widget-view+json": {
       "model_id": "",
       "version_major": 2,
       "version_minor": 0
      },
      "text/plain": [
       "FloatProgress(value=0.0, bar_style='info', description='Progress:', layout=Layout(height='25px', width='50%'),…"
      ]
     },
     "metadata": {},
     "output_type": "display_data"
    },
    {
     "name": "stdout",
     "output_type": "stream",
     "text": [
      "+-----+-----+\n",
      "|churn|count|\n",
      "+-----+-----+\n",
      "|    1| 5003|\n",
      "|    0|17275|\n",
      "+-----+-----+"
     ]
    }
   ],
   "source": [
    "# Check target balance\n",
    "preprocessed_df.groupby('churn').count().show()\n",
    "\n",
    "# churn <---> 22.5%"
   ]
  },
  {
   "cell_type": "markdown",
   "metadata": {},
   "source": [
    "**Step 2**: Prepare transformers to collect feature vector\n",
    "\n",
    "Used features:\n",
    "* Apply TF-IDF to artist list, song list and page list. We limit vocabSize to 100 elements\n",
    "* Beside TF-IDF generated features keep session frequency, avg number of songs per session, lifetime, gender, paid, agent based features"
   ]
  },
  {
   "cell_type": "code",
   "execution_count": 8,
   "metadata": {},
   "outputs": [
    {
     "data": {
      "application/vnd.jupyter.widget-view+json": {
       "model_id": "9274c4c7717b46c5b346848228feb5ca",
       "version_major": 2,
       "version_minor": 0
      },
      "text/plain": [
       "VBox()"
      ]
     },
     "metadata": {},
     "output_type": "display_data"
    },
    {
     "data": {
      "application/vnd.jupyter.widget-view+json": {
       "model_id": "",
       "version_major": 2,
       "version_minor": 0
      },
      "text/plain": [
       "FloatProgress(value=0.0, bar_style='info', description='Progress:', layout=Layout(height='25px', width='50%'),…"
      ]
     },
     "metadata": {},
     "output_type": "display_data"
    }
   ],
   "source": [
    "def tf_idf_transformer(list_name: str,\n",
    "                       vocabSize: int=100):\n",
    "    \"\"\"\n",
    "    Combines TF and IDF pyspark transformers\n",
    "    ------------\n",
    "    \n",
    "    Args:\n",
    "        list_name (string) : prefix of the feature with work list in the format\n",
    "            prefix_list\n",
    "        vocabSize (int)    : number of top-output words to keep\n",
    "    \n",
    "    Returns:\n",
    "        tf transformer, idf transformer\n",
    "    \"\"\"\n",
    "    tf = CountVectorizer(inputCol=f\"{list_name}_list\", outputCol=f\"TF_{list_name}\", vocabSize=vocabSize)\n",
    "    tf_idf = IDF(inputCol=f\"TF_{list_name}\", outputCol=f\"TFIDF_{list_name}\")\n",
    "    return tf, tf_idf\n",
    "\n",
    "\n",
    "artist_tf, artist_tf_idf = tf_idf_transformer('artist')\n",
    "song_tf, song_tf_idf = tf_idf_transformer('song')\n",
    "page_tf, page_tf_idf = tf_idf_transformer('page')\n",
    "\n",
    "assembler = VectorAssembler(inputCols=[\"TFIDF_artist\", \"TFIDF_song\", \"TFIDF_page\",\n",
    "                                       \"session_freq\", \"song_per_session\", \n",
    "                                       \"lifetime\", \"gender_Male\", \n",
    "                                       \"is_paid\", \"agent_Windows\",\n",
    "                                       \"agent_Mac\", \"agent_iPhone\", \"agent_iPad\", \n",
    "                                       \"agent_Linux\"], \n",
    "                            outputCol=\"features\", \n",
    "                            handleInvalid=\"skip\")\n",
    "\n",
    "\n",
    "feature_pipeline = Pipeline(stages=[artist_tf, artist_tf_idf, \n",
    "                                   song_tf, song_tf_idf,\n",
    "                                   page_tf, page_tf_idf,\n",
    "                                   assembler\n",
    "                                   ])"
   ]
  },
  {
   "cell_type": "code",
   "execution_count": 9,
   "metadata": {
    "scrolled": true
   },
   "outputs": [
    {
     "data": {
      "application/vnd.jupyter.widget-view+json": {
       "model_id": "c869e1cd27154d3c8c9dc06cf1ccff0e",
       "version_major": 2,
       "version_minor": 0
      },
      "text/plain": [
       "VBox()"
      ]
     },
     "metadata": {},
     "output_type": "display_data"
    },
    {
     "data": {
      "application/vnd.jupyter.widget-view+json": {
       "model_id": "",
       "version_major": 2,
       "version_minor": 0
      },
      "text/plain": [
       "FloatProgress(value=0.0, bar_style='info', description='Progress:', layout=Layout(height='25px', width='50%'),…"
      ]
     },
     "metadata": {},
     "output_type": "display_data"
    },
    {
     "name": "stdout",
     "output_type": "stream",
     "text": [
      "22261"
     ]
    }
   ],
   "source": [
    "test = feature_pipeline.fit(preprocessed_df)\n",
    "test.transform(preprocessed_df).count()"
   ]
  },
  {
   "cell_type": "markdown",
   "metadata": {},
   "source": [
    "# Modeling\n",
    "We split the full dataset into train (70%) and test (30%). During cross-validation process train data is additionally split into train and validation subsets. Test data is used only to check the model (nexer seen during training).\n",
    "\n",
    "We try 2 models:\n",
    "* Random Forest Classifier\n",
    "* Gradient Boosted Tree Classifier\n",
    "\n",
    "Note: since we use tree-based models, we don't don't need to scale numerical features.\n",
    "Our problem is imbalanced: 23% of positive cases (churn) and 67% of negative (stayed). Thus, we use F1-score to tune hyperparameters and check final quality of the model."
   ]
  },
  {
   "cell_type": "code",
   "execution_count": 28,
   "metadata": {},
   "outputs": [
    {
     "data": {
      "application/vnd.jupyter.widget-view+json": {
       "model_id": "c5132de2864549e290f87f67c96ecef3",
       "version_major": 2,
       "version_minor": 0
      },
      "text/plain": [
       "VBox()"
      ]
     },
     "metadata": {},
     "output_type": "display_data"
    },
    {
     "data": {
      "application/vnd.jupyter.widget-view+json": {
       "model_id": "",
       "version_major": 2,
       "version_minor": 0
      },
      "text/plain": [
       "FloatProgress(value=0.0, bar_style='info', description='Progress:', layout=Layout(height='25px', width='50%'),…"
      ]
     },
     "metadata": {},
     "output_type": "display_data"
    }
   ],
   "source": [
    "(train_data, test_data) = preprocessed_df.randomSplit([0.7, 0.3], seed=10)\n",
    "\n",
    "# cache dataframes\n",
    "train_data = train_data.cache()\n",
    "test_data = test_data.cache()"
   ]
  },
  {
   "cell_type": "code",
   "execution_count": 29,
   "metadata": {},
   "outputs": [
    {
     "data": {
      "application/vnd.jupyter.widget-view+json": {
       "model_id": "9b653e25e6a84e919b538458a88d84ba",
       "version_major": 2,
       "version_minor": 0
      },
      "text/plain": [
       "VBox()"
      ]
     },
     "metadata": {},
     "output_type": "display_data"
    },
    {
     "data": {
      "application/vnd.jupyter.widget-view+json": {
       "model_id": "",
       "version_major": 2,
       "version_minor": 0
      },
      "text/plain": [
       "FloatProgress(value=0.0, bar_style='info', description='Progress:', layout=Layout(height='25px', width='50%'),…"
      ]
     },
     "metadata": {},
     "output_type": "display_data"
    }
   ],
   "source": [
    "def score_the_model(test_data, model, metric_name='accuracy'):\n",
    "    \"\"\"\n",
    "    Calculate model score by metric given in metric_name\n",
    "    \"\"\"\n",
    "    # Make predictions\n",
    "    predictions = model.transform(test_data)\n",
    "\n",
    "    # Set up evaluator and compute score\n",
    "    evaluator = MulticlassClassificationEvaluator(\n",
    "        labelCol=\"churn\", \n",
    "        predictionCol=\"prediction\", \n",
    "        metricName=metric_name)\n",
    "    score = evaluator.evaluate(predictions)\n",
    "    print(\"Score = \", score)"
   ]
  },
  {
   "cell_type": "markdown",
   "metadata": {},
   "source": [
    "### Random Forest Classifier"
   ]
  },
  {
   "cell_type": "code",
   "execution_count": 23,
   "metadata": {},
   "outputs": [
    {
     "data": {
      "application/vnd.jupyter.widget-view+json": {
       "model_id": "bd49d038a8374f83994dcc8f9bc64662",
       "version_major": 2,
       "version_minor": 0
      },
      "text/plain": [
       "VBox()"
      ]
     },
     "metadata": {},
     "output_type": "display_data"
    },
    {
     "data": {
      "application/vnd.jupyter.widget-view+json": {
       "model_id": "",
       "version_major": 2,
       "version_minor": 0
      },
      "text/plain": [
       "FloatProgress(value=0.0, bar_style='info', description='Progress:', layout=Layout(height='25px', width='50%'),…"
      ]
     },
     "metadata": {},
     "output_type": "display_data"
    }
   ],
   "source": [
    "# Tune model\n",
    "rf = RandomForestClassifier(labelCol=\"churn\", featuresCol=\"features\", \n",
    "                            seed = 10)\n",
    "rf_pipeline = Pipeline(stages=[feature_pipeline, rf])\n",
    "\n",
    "# set parameters grid\n",
    "paramGrid = (ParamGridBuilder()\n",
    "            .addGrid(rf.maxDepth, [5, 7])\n",
    "            .addGrid(rf.numTrees, [50, 100])\n",
    "            .build()\n",
    "            )\n",
    "\n",
    "# choose evaluater\n",
    "evaluator = MulticlassClassificationEvaluator(labelCol=\"churn\", \n",
    "                                               predictionCol=\"prediction\", \n",
    "                                               metricName=\"f1\")\n",
    "\n",
    "# define cross-validator\n",
    "crossval = CrossValidator(estimator=rf_pipeline,\n",
    "                          estimatorParamMaps=paramGrid,\n",
    "                          evaluator=evaluator,\n",
    "                          numFolds=3,\n",
    "                          seed=10)\n",
    "\n",
    "# run cross-validation\n",
    "cvModel = crossval.fit(train_data)"
   ]
  },
  {
   "cell_type": "code",
   "execution_count": 25,
   "metadata": {},
   "outputs": [
    {
     "data": {
      "application/vnd.jupyter.widget-view+json": {
       "model_id": "a277f21a7d814661a42cc7220ad820d3",
       "version_major": 2,
       "version_minor": 0
      },
      "text/plain": [
       "VBox()"
      ]
     },
     "metadata": {},
     "output_type": "display_data"
    },
    {
     "data": {
      "application/vnd.jupyter.widget-view+json": {
       "model_id": "",
       "version_major": 2,
       "version_minor": 0
      },
      "text/plain": [
       "FloatProgress(value=0.0, bar_style='info', description='Progress:', layout=Layout(height='25px', width='50%'),…"
      ]
     },
     "metadata": {},
     "output_type": "display_data"
    },
    {
     "name": "stdout",
     "output_type": "stream",
     "text": [
      "{Param(parent='RandomForestClassifier_8d88822f3599', name='maxDepth', doc='Maximum depth of the tree. (>= 0) E.g., depth 0 means 1 leaf node; depth 1 means 1 internal node + 2 leaf nodes.'): 7, Param(parent='RandomForestClassifier_8d88822f3599', name='numTrees', doc='Number of trees to train (>= 1).'): 50}"
     ]
    }
   ],
   "source": [
    "# check best combination of parameters\n",
    "cvModel.getEstimatorParamMaps()[ np.argmax(cvModel.avgMetrics) ]"
   ]
  },
  {
   "cell_type": "code",
   "execution_count": 24,
   "metadata": {
    "scrolled": true
   },
   "outputs": [
    {
     "data": {
      "application/vnd.jupyter.widget-view+json": {
       "model_id": "9e78fb4798da4071b01c2f7c1675f83e",
       "version_major": 2,
       "version_minor": 0
      },
      "text/plain": [
       "VBox()"
      ]
     },
     "metadata": {},
     "output_type": "display_data"
    },
    {
     "data": {
      "application/vnd.jupyter.widget-view+json": {
       "model_id": "",
       "version_major": 2,
       "version_minor": 0
      },
      "text/plain": [
       "FloatProgress(value=0.0, bar_style='info', description='Progress:', layout=Layout(height='25px', width='50%'),…"
      ]
     },
     "metadata": {},
     "output_type": "display_data"
    },
    {
     "name": "stdout",
     "output_type": "stream",
     "text": [
      "Score =  0.9355532787669427"
     ]
    }
   ],
   "source": [
    "# let's test it\n",
    "score_the_model(test_data, cvModel, metric_name='f1')"
   ]
  },
  {
   "cell_type": "code",
   "execution_count": 26,
   "metadata": {},
   "outputs": [
    {
     "data": {
      "application/vnd.jupyter.widget-view+json": {
       "model_id": "ccf2ff4bd85a48e3a3ecc14287a5a56c",
       "version_major": 2,
       "version_minor": 0
      },
      "text/plain": [
       "VBox()"
      ]
     },
     "metadata": {},
     "output_type": "display_data"
    },
    {
     "data": {
      "application/vnd.jupyter.widget-view+json": {
       "model_id": "",
       "version_major": 2,
       "version_minor": 0
      },
      "text/plain": [
       "FloatProgress(value=0.0, bar_style='info', description='Progress:', layout=Layout(height='25px', width='50%'),…"
      ]
     },
     "metadata": {},
     "output_type": "display_data"
    }
   ],
   "source": [
    "cvModel.bestModel.write().overwrite().save(my_storage + \"/saved_models/rf_model\")"
   ]
  },
  {
   "cell_type": "markdown",
   "metadata": {},
   "source": [
    "### Gradient Boosted Tree classifier"
   ]
  },
  {
   "cell_type": "code",
   "execution_count": 11,
   "metadata": {},
   "outputs": [
    {
     "data": {
      "application/vnd.jupyter.widget-view+json": {
       "model_id": "e8b6f5bbc9fc4dc2b66707c0a6a30815",
       "version_major": 2,
       "version_minor": 0
      },
      "text/plain": [
       "VBox()"
      ]
     },
     "metadata": {},
     "output_type": "display_data"
    },
    {
     "data": {
      "application/vnd.jupyter.widget-view+json": {
       "model_id": "",
       "version_major": 2,
       "version_minor": 0
      },
      "text/plain": [
       "FloatProgress(value=0.0, bar_style='info', description='Progress:', layout=Layout(height='25px', width='50%'),…"
      ]
     },
     "metadata": {},
     "output_type": "display_data"
    },
    {
     "name": "stdout",
     "output_type": "stream",
     "text": [
      "Score =  1.0"
     ]
    }
   ],
   "source": [
    "gbt = GBTClassifier(labelCol=\"churn\", featuresCol=\"features\")\n",
    "gbt_pipeline = Pipeline(stages=[feature_pipeline, gbt])\n",
    "\n",
    "cvModel = gbt_pipeline.fit(train_data)\n",
    "\n",
    "# Make predictions\n",
    "predictions = cvModel.transform(test_data)\n",
    "\n",
    "# Set up evaluator and compute test error\n",
    "evaluator = MulticlassClassificationEvaluator(\n",
    "    labelCol=\"churn\", \n",
    "    predictionCol=\"prediction\", \n",
    "    metricName=\"f1\")\n",
    "score = evaluator.evaluate(predictions)\n",
    "print(\"Score = \", score)"
   ]
  },
  {
   "cell_type": "code",
   "execution_count": 13,
   "metadata": {},
   "outputs": [
    {
     "data": {
      "application/vnd.jupyter.widget-view+json": {
       "model_id": "8fa0124cc68549a99982fea80ab19c0a",
       "version_major": 2,
       "version_minor": 0
      },
      "text/plain": [
       "VBox()"
      ]
     },
     "metadata": {},
     "output_type": "display_data"
    },
    {
     "data": {
      "application/vnd.jupyter.widget-view+json": {
       "model_id": "",
       "version_major": 2,
       "version_minor": 0
      },
      "text/plain": [
       "FloatProgress(value=0.0, bar_style='info', description='Progress:', layout=Layout(height='25px', width='50%'),…"
      ]
     },
     "metadata": {},
     "output_type": "display_data"
    },
    {
     "name": "stderr",
     "output_type": "stream",
     "text": [
      "Exception in thread cell_monitor-13:\n",
      "Traceback (most recent call last):\n",
      "  File \"/opt/conda/lib/python3.7/threading.py\", line 926, in _bootstrap_inner\n",
      "    self.run()\n",
      "  File \"/opt/conda/lib/python3.7/threading.py\", line 870, in run\n",
      "    self._target(*self._args, **self._kwargs)\n",
      "  File \"/opt/conda/lib/python3.7/site-packages/awseditorssparkmonitoringwidget-1.0-py3.7.egg/awseditorssparkmonitoringwidget/cellmonitor.py\", line 178, in cell_monitor\n",
      "    job_binned_stages[job_id][stage_id] = all_stages[stage_id]\n",
      "KeyError: 1597\n",
      "\n"
     ]
    }
   ],
   "source": [
    "# Tune model\n",
    "gbt = GBTClassifier(labelCol=\"churn\", featuresCol=\"features\", seed = 10)\n",
    "gbt_pipeline = Pipeline(stages=[feature_pipeline, gbt])\n",
    "\n",
    "# set parameters grid\n",
    "paramGrid = (ParamGridBuilder()\n",
    "            .addGrid(gbt.maxDepth, [3, 5])\n",
    "            .addGrid(gbt.maxIter, [5, 10])\n",
    "            .build()\n",
    "            )\n",
    "\n",
    "# choose evaluater\n",
    "evaluator = MulticlassClassificationEvaluator(labelCol=\"churn\", \n",
    "                                               predictionCol=\"prediction\", \n",
    "                                               metricName=\"f1\")\n",
    "\n",
    "# define cross-validator\n",
    "crossval = CrossValidator(estimator=gbt_pipeline,\n",
    "                          estimatorParamMaps=paramGrid,\n",
    "                          evaluator=evaluator,\n",
    "                          numFolds=3,\n",
    "                          seed=10)\n",
    "\n",
    "# run cross-validation\n",
    "cvModel = crossval.fit(train_data)"
   ]
  },
  {
   "cell_type": "code",
   "execution_count": 15,
   "metadata": {},
   "outputs": [
    {
     "data": {
      "application/vnd.jupyter.widget-view+json": {
       "model_id": "53c49192c54d4e7ba42b04f96e217f18",
       "version_major": 2,
       "version_minor": 0
      },
      "text/plain": [
       "VBox()"
      ]
     },
     "metadata": {},
     "output_type": "display_data"
    },
    {
     "data": {
      "application/vnd.jupyter.widget-view+json": {
       "model_id": "",
       "version_major": 2,
       "version_minor": 0
      },
      "text/plain": [
       "FloatProgress(value=0.0, bar_style='info', description='Progress:', layout=Layout(height='25px', width='50%'),…"
      ]
     },
     "metadata": {},
     "output_type": "display_data"
    },
    {
     "name": "stdout",
     "output_type": "stream",
     "text": [
      "{Param(parent='GBTClassifier_a1d75e21a0bc', name='maxDepth', doc='Maximum depth of the tree. (>= 0) E.g., depth 0 means 1 leaf node; depth 1 means 1 internal node + 2 leaf nodes.'): 3, Param(parent='GBTClassifier_a1d75e21a0bc', name='maxIter', doc='max number of iterations (>= 0).'): 5}"
     ]
    }
   ],
   "source": [
    "# check best combination of parameters\n",
    "cvModel.getEstimatorParamMaps()[ np.argmax(cvModel.avgMetrics) ]"
   ]
  },
  {
   "cell_type": "code",
   "execution_count": 14,
   "metadata": {
    "scrolled": false
   },
   "outputs": [
    {
     "data": {
      "application/vnd.jupyter.widget-view+json": {
       "model_id": "44eb16c5da7a40fa86a06acd194f4b0c",
       "version_major": 2,
       "version_minor": 0
      },
      "text/plain": [
       "VBox()"
      ]
     },
     "metadata": {},
     "output_type": "display_data"
    },
    {
     "data": {
      "application/vnd.jupyter.widget-view+json": {
       "model_id": "",
       "version_major": 2,
       "version_minor": 0
      },
      "text/plain": [
       "FloatProgress(value=0.0, bar_style='info', description='Progress:', layout=Layout(height='25px', width='50%'),…"
      ]
     },
     "metadata": {},
     "output_type": "display_data"
    },
    {
     "name": "stdout",
     "output_type": "stream",
     "text": [
      "Score =  1.0"
     ]
    }
   ],
   "source": [
    "# let's test it\n",
    "score_the_model(test_data, cvModel, metric_name='f1')"
   ]
  },
  {
   "cell_type": "code",
   "execution_count": 22,
   "metadata": {},
   "outputs": [
    {
     "data": {
      "application/vnd.jupyter.widget-view+json": {
       "model_id": "065e63448a494845bb94d3b32d0f434b",
       "version_major": 2,
       "version_minor": 0
      },
      "text/plain": [
       "VBox()"
      ]
     },
     "metadata": {},
     "output_type": "display_data"
    },
    {
     "data": {
      "application/vnd.jupyter.widget-view+json": {
       "model_id": "",
       "version_major": 2,
       "version_minor": 0
      },
      "text/plain": [
       "FloatProgress(value=0.0, bar_style='info', description='Progress:', layout=Layout(height='25px', width='50%'),…"
      ]
     },
     "metadata": {},
     "output_type": "display_data"
    }
   ],
   "source": [
    "cvModel.bestModel.write().overwrite().save(my_storage + \"/saved_models/gbt_model\")"
   ]
  },
  {
   "cell_type": "markdown",
   "metadata": {},
   "source": [
    "### Load pretrained models"
   ]
  },
  {
   "cell_type": "code",
   "execution_count": 27,
   "metadata": {},
   "outputs": [
    {
     "data": {
      "application/vnd.jupyter.widget-view+json": {
       "model_id": "86b8089266ba4459af91ee402ac55a25",
       "version_major": 2,
       "version_minor": 0
      },
      "text/plain": [
       "VBox()"
      ]
     },
     "metadata": {},
     "output_type": "display_data"
    },
    {
     "data": {
      "application/vnd.jupyter.widget-view+json": {
       "model_id": "",
       "version_major": 2,
       "version_minor": 0
      },
      "text/plain": [
       "FloatProgress(value=0.0, bar_style='info', description='Progress:', layout=Layout(height='25px', width='50%'),…"
      ]
     },
     "metadata": {},
     "output_type": "display_data"
    }
   ],
   "source": [
    "# load model\n",
    "path_dict = {'rf': my_storage + \"/saved_models/rf_model\",\n",
    "             'gbt': my_storage + \"/saved_models/gbt_model\"}\n",
    "\n",
    "pretrainedModel = PipelineModel.load(path_dict['gbt'])"
   ]
  },
  {
   "cell_type": "code",
   "execution_count": 31,
   "metadata": {},
   "outputs": [
    {
     "data": {
      "application/vnd.jupyter.widget-view+json": {
       "model_id": "38dc558bb5224a8bb26ec0b41139b097",
       "version_major": 2,
       "version_minor": 0
      },
      "text/plain": [
       "VBox()"
      ]
     },
     "metadata": {},
     "output_type": "display_data"
    },
    {
     "data": {
      "application/vnd.jupyter.widget-view+json": {
       "model_id": "",
       "version_major": 2,
       "version_minor": 0
      },
      "text/plain": [
       "FloatProgress(value=0.0, bar_style='info', description='Progress:', layout=Layout(height='25px', width='50%'),…"
      ]
     },
     "metadata": {},
     "output_type": "display_data"
    },
    {
     "name": "stdout",
     "output_type": "stream",
     "text": [
      "Score =  1.0"
     ]
    }
   ],
   "source": [
    "# let's test it\n",
    "score_the_model(test_data, pretrainedModel, metric_name='f1')"
   ]
  },
  {
   "cell_type": "code",
   "execution_count": null,
   "metadata": {},
   "outputs": [],
   "source": []
  }
 ],
 "metadata": {
  "kernelspec": {
   "display_name": "PySpark",
   "language": "",
   "name": "pysparkkernel"
  },
  "language_info": {
   "codemirror_mode": {
    "name": "python",
    "version": 2
   },
   "mimetype": "text/x-python",
   "name": "pyspark",
   "pygments_lexer": "python2"
  }
 },
 "nbformat": 4,
 "nbformat_minor": 2
}
