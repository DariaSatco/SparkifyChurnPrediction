{
 "cells": [
  {
   "cell_type": "markdown",
   "metadata": {},
   "source": [
    "# Sparkify Full dataset run"
   ]
  },
  {
   "cell_type": "code",
   "execution_count": 1,
   "metadata": {},
   "outputs": [
    {
     "data": {
      "application/vnd.jupyter.widget-view+json": {
       "model_id": "83a84d609ba5481cbdc850d43da10765",
       "version_major": 2,
       "version_minor": 0
      },
      "text/plain": [
       "VBox()"
      ]
     },
     "metadata": {},
     "output_type": "display_data"
    },
    {
     "name": "stdout",
     "output_type": "stream",
     "text": [
      "Starting Spark application\n"
     ]
    },
    {
     "data": {
      "text/html": [
       "<table>\n",
       "<tr><th>ID</th><th>YARN Application ID</th><th>Kind</th><th>State</th><th>Spark UI</th><th>Driver log</th><th>Current session?</th></tr><tr><td>0</td><td>application_1632506132459_0001</td><td>pyspark</td><td>idle</td><td><a target=\"_blank\" href=\"http://ip-172-31-7-98.us-east-2.compute.internal:20888/proxy/application_1632506132459_0001/\">Link</a></td><td><a target=\"_blank\" href=\"http://ip-172-31-9-129.us-east-2.compute.internal:8042/node/containerlogs/container_1632506132459_0001_01_000001/livy\">Link</a></td><td>✔</td></tr></table>"
      ],
      "text/plain": [
       "<IPython.core.display.HTML object>"
      ]
     },
     "metadata": {},
     "output_type": "display_data"
    },
    {
     "data": {
      "application/vnd.jupyter.widget-view+json": {
       "model_id": "",
       "version_major": 2,
       "version_minor": 0
      },
      "text/plain": [
       "FloatProgress(value=0.0, bar_style='info', description='Progress:', layout=Layout(height='25px', width='50%'),…"
      ]
     },
     "metadata": {},
     "output_type": "display_data"
    },
    {
     "name": "stdout",
     "output_type": "stream",
     "text": [
      "SparkSession available as 'spark'.\n"
     ]
    },
    {
     "data": {
      "application/vnd.jupyter.widget-view+json": {
       "model_id": "",
       "version_major": 2,
       "version_minor": 0
      },
      "text/plain": [
       "FloatProgress(value=0.0, bar_style='info', description='Progress:', layout=Layout(height='25px', width='50%'),…"
      ]
     },
     "metadata": {},
     "output_type": "display_data"
    }
   ],
   "source": [
    "import pyspark\n",
    "from pyspark.sql import SparkSession\n",
    "from pyspark.sql import functions as F\n",
    "from pyspark.sql.types import IntegerType, DateType\n",
    "from pyspark.sql.window import Window\n",
    "\n",
    "from pyspark.ml.feature import CountVectorizer, IDF, CountVectorizerModel\n",
    "from pyspark.ml.feature import OneHotEncoder, VectorAssembler\n",
    "from pyspark.ml.classification import RandomForestClassifier, GBTClassifier\n",
    "from pyspark.ml import Pipeline\n",
    "from pyspark.ml.evaluation import MulticlassClassificationEvaluator\n",
    "from pyspark.ml.tuning import CrossValidator, ParamGridBuilder\n",
    "from pyspark.mllib.evaluation import MulticlassMetrics\n",
    "from pyspark.ml.pipeline import PipelineModel\n",
    "\n",
    "from datetime import datetime\n",
    "import numpy as np\n",
    "from itertools import chain\n",
    "from typing import Dict\n",
    "import pandas as pd"
   ]
  },
  {
   "cell_type": "code",
   "execution_count": 2,
   "metadata": {},
   "outputs": [
    {
     "data": {
      "application/vnd.jupyter.widget-view+json": {
       "model_id": "b2e75ec9930d4406ac01ca555e3e022f",
       "version_major": 2,
       "version_minor": 0
      },
      "text/plain": [
       "VBox()"
      ]
     },
     "metadata": {},
     "output_type": "display_data"
    },
    {
     "data": {
      "application/vnd.jupyter.widget-view+json": {
       "model_id": "",
       "version_major": 2,
       "version_minor": 0
      },
      "text/plain": [
       "FloatProgress(value=0.0, bar_style='info', description='Progress:', layout=Layout(height='25px', width='50%'),…"
      ]
     },
     "metadata": {},
     "output_type": "display_data"
    }
   ],
   "source": [
    "# Create spark session\n",
    "spark = SparkSession \\\n",
    "    .builder \\\n",
    "    .appName(\"Sparkify\") \\\n",
    "    .getOrCreate()"
   ]
  },
  {
   "cell_type": "code",
   "execution_count": 3,
   "metadata": {},
   "outputs": [
    {
     "data": {
      "application/vnd.jupyter.widget-view+json": {
       "model_id": "36417564657c485c96ca0f18f9460c12",
       "version_major": 2,
       "version_minor": 0
      },
      "text/plain": [
       "VBox()"
      ]
     },
     "metadata": {},
     "output_type": "display_data"
    },
    {
     "data": {
      "application/vnd.jupyter.widget-view+json": {
       "model_id": "",
       "version_major": 2,
       "version_minor": 0
      },
      "text/plain": [
       "FloatProgress(value=0.0, bar_style='info', description='Progress:', layout=Layout(height='25px', width='50%'),…"
      ]
     },
     "metadata": {},
     "output_type": "display_data"
    }
   ],
   "source": [
    "# rimestamp coefficient\n",
    "TS_COEF = 1000*60*60*24\n",
    "\n",
    "# today date\n",
    "TODAY = str(datetime.today().date())\n",
    "\n",
    "# S3 storage path\n",
    "my_storage = 's3://sparkify-saved-models/'"
   ]
  },
  {
   "cell_type": "markdown",
   "metadata": {},
   "source": [
    "# Load and Clean Dataset"
   ]
  },
  {
   "cell_type": "code",
   "execution_count": 4,
   "metadata": {
    "scrolled": true
   },
   "outputs": [
    {
     "data": {
      "application/vnd.jupyter.widget-view+json": {
       "model_id": "885d0480f71248a9bf181407941b4cf5",
       "version_major": 2,
       "version_minor": 0
      },
      "text/plain": [
       "VBox()"
      ]
     },
     "metadata": {},
     "output_type": "display_data"
    },
    {
     "data": {
      "application/vnd.jupyter.widget-view+json": {
       "model_id": "",
       "version_major": 2,
       "version_minor": 0
      },
      "text/plain": [
       "FloatProgress(value=0.0, bar_style='info', description='Progress:', layout=Layout(height='25px', width='50%'),…"
      ]
     },
     "metadata": {},
     "output_type": "display_data"
    },
    {
     "name": "stdout",
     "output_type": "stream",
     "text": [
      "Row(artist='Popol Vuh', auth='Logged In', firstName='Shlok', gender='M', itemInSession=278, lastName='Johnson', length=524.32934, level='paid', location='Dallas-Fort Worth-Arlington, TX', method='PUT', page='NextSong', registration=1533734541000, sessionId=22683, song='Ich mache einen Spiegel - Dream Part 4', status=200, ts=1538352001000, userAgent='\"Mozilla/5.0 (Windows NT 6.1; WOW64) AppleWebKit/537.36 (KHTML, like Gecko) Chrome/36.0.1985.143 Safari/537.36\"', userId='1749042')"
     ]
    }
   ],
   "source": [
    "# Read in full sparkify dataset\n",
    "event_data = \"s3n://udacity-dsnd/sparkify/sparkify_event_data.json\"\n",
    "df = spark.read.json(event_data)\n",
    "df.head()"
   ]
  },
  {
   "cell_type": "markdown",
   "metadata": {},
   "source": [
    "# Feature Engineering"
   ]
  },
  {
   "cell_type": "markdown",
   "metadata": {},
   "source": [
    "### Compile the modelling dataset\n",
    "1. Exclude records with empty *userId*.\n",
    "2. Add label: 1 = Churn, 0 = Not churn. Condition: `page='Cancellation Confirmation'`\n",
    "3. Remove records of `page='Cancellation Confirmation'` and `page='Cancel'`.\n",
    "4. Sort dataframe by `userId` and `ts`\n",
    "5. Aggregate features at user level:\n",
    "    * create list of songs\n",
    "    * create list of artists\n",
    "    * list of page events (Cancellation Confirmation and Cancel events preliminary filtered out to remove the leak)\n",
    "    * session frequency\n",
    "    * average number of songs per session\n",
    "    * binary feature: Male gender = 1/0\n",
    "    * binary feature: paid acoount = 1/0\n",
    "    * lifetime (days): time difference between last activity and registration date\n",
    "    * derive OS/device features from agent values\n",
    "6. Apply TF-IDF transformation to lists: songs, artists, page events. For songs and artists we keep only top-100 values, page events are all included (since only 22 values in total).  "
   ]
  },
  {
   "cell_type": "markdown",
   "metadata": {},
   "source": [
    "**Step 1**: Aggregate user-level properties"
   ]
  },
  {
   "cell_type": "code",
   "execution_count": 5,
   "metadata": {},
   "outputs": [
    {
     "data": {
      "application/vnd.jupyter.widget-view+json": {
       "model_id": "6c1ba989b54c43c69e77f1f01cabdee2",
       "version_major": 2,
       "version_minor": 0
      },
      "text/plain": [
       "VBox()"
      ]
     },
     "metadata": {},
     "output_type": "display_data"
    },
    {
     "data": {
      "application/vnd.jupyter.widget-view+json": {
       "model_id": "",
       "version_major": 2,
       "version_minor": 0
      },
      "text/plain": [
       "FloatProgress(value=0.0, bar_style='info', description='Progress:', layout=Layout(height='25px', width='50%'),…"
      ]
     },
     "metadata": {},
     "output_type": "display_data"
    }
   ],
   "source": [
    "def preprocess_data(df: pyspark.sql.DataFrame) -> pyspark.sql.DataFrame:\n",
    "    \"\"\"\n",
    "    Aggregate App data at user level and collects\n",
    "    dataframe for further feature engineering steps\n",
    "    =================\n",
    "    Args:\n",
    "        df (pyspark Dataframe) : data extraction from Sparkify\n",
    "        \n",
    "    Return:\n",
    "        preprocessed pyspark dataframe\n",
    "    \"\"\"\n",
    "    w = Window.partitionBy(df.userId).orderBy(df.ts)\n",
    "    w_uid = Window.partitionBy(df.userId)\n",
    "\n",
    "    preprocessed_df = (df\n",
    "                       .filter(F.col('userId')!='') #filter out guests\n",
    "                       .withColumn('cancelled', (F.col('page')=='Cancellation Confirmation').cast(IntegerType())) \n",
    "                       .withColumn('churn', F.max('cancelled').over(w_uid)) # define churn label\n",
    "                       .withColumn('current_level', F.last('level').over(w)) # sort levels of subscription by date\n",
    "                       .withColumn('last_userAgent', F.last('userAgent').over(w)) # sort agents by date\n",
    "                       .filter(~F.col('page').isin(['Cancellation Confirmation',\n",
    "                                                    'Cancel'])) #remove cancellation page events from dataset\n",
    "                       .groupby('userId') # aggregate features at user level\n",
    "                       .agg(F.collect_list('artist').alias('artist_list'), # combine into list all artist\n",
    "                            F.collect_list('song').alias('song_list'), # combine into list all songs\n",
    "                            F.collect_list('page').alias('page_list'), # combine into list all page events\n",
    "                            F.countDistinct('sessionId').alias('session_count'), # calculate total number of sessions\n",
    "                            F.count('song').alias('song_count'), # calculate total number of songs\n",
    "                            F.first('gender').alias('gender'), # gender data\n",
    "                            F.last('current_level').alias('current_level'), # take last level value\n",
    "                            F.max('churn').alias('churn'), \n",
    "                            F.min('ts').alias('min_ts'), # start timestamp \n",
    "                            F.max('ts').alias('max_ts'), # end timestamp\n",
    "                            F.last('last_userAgent').alias('last_userAgent'), # recent agent\n",
    "                            F.min('registration').alias('registration') # registration date\n",
    "                           )\n",
    "                       # frequency of sessions\n",
    "                       .withColumn('session_freq', F.col('session_count')/((F.col('max_ts')-F.col('min_ts'))/TS_COEF))\n",
    "                       # avg number of songs per session\n",
    "                       .withColumn('song_per_session', F.col('song_count')/F.col('session_count'))\n",
    "                       # binary feature: Male = 1/0\n",
    "                       .withColumn('gender_Male', (F.col('gender')=='M').cast(IntegerType()))\n",
    "                       # binary feature: paid = 1/0\n",
    "                       .withColumn('is_paid', (F.col('current_level')=='paid').cast(IntegerType()))\n",
    "                       # lifetime\n",
    "                       .withColumn('lifetime', (F.col('max_ts')-F.col('registration'))/TS_COEF)\n",
    "                       # extract device/OS pointers from agent\n",
    "                       .withColumn('agent_Windows', F.col('last_userAgent').contains('Windows').cast(IntegerType()))\n",
    "                       .withColumn('agent_Mac', F.col('last_userAgent').contains('Mac').cast(IntegerType()))\n",
    "                       .withColumn('agent_iPhone', F.col('last_userAgent').contains('iPhone').cast(IntegerType()))\n",
    "                       .withColumn('agent_iPad', F.col('last_userAgent').contains('iPad').cast(IntegerType()))\n",
    "                       .withColumn('agent_Linux', F.col('last_userAgent').contains('Linix').cast(IntegerType()))\n",
    "                      ).cache()\n",
    "    \n",
    "    return preprocessed_df"
   ]
  },
  {
   "cell_type": "code",
   "execution_count": 6,
   "metadata": {
    "scrolled": true
   },
   "outputs": [
    {
     "data": {
      "application/vnd.jupyter.widget-view+json": {
       "model_id": "e2c958d0674040928ad7545917297aa9",
       "version_major": 2,
       "version_minor": 0
      },
      "text/plain": [
       "VBox()"
      ]
     },
     "metadata": {},
     "output_type": "display_data"
    },
    {
     "data": {
      "application/vnd.jupyter.widget-view+json": {
       "model_id": "",
       "version_major": 2,
       "version_minor": 0
      },
      "text/plain": [
       "FloatProgress(value=0.0, bar_style='info', description='Progress:', layout=Layout(height='25px', width='50%'),…"
      ]
     },
     "metadata": {},
     "output_type": "display_data"
    },
    {
     "name": "stdout",
     "output_type": "stream",
     "text": [
      "22278"
     ]
    }
   ],
   "source": [
    "# Number of unique users in dataset\n",
    "preprocessed_df = preprocess_data(df)\n",
    "preprocessed_df.count()"
   ]
  },
  {
   "cell_type": "code",
   "execution_count": 7,
   "metadata": {},
   "outputs": [
    {
     "data": {
      "application/vnd.jupyter.widget-view+json": {
       "model_id": "2c2ae8a456624faa9461312fa493d6db",
       "version_major": 2,
       "version_minor": 0
      },
      "text/plain": [
       "VBox()"
      ]
     },
     "metadata": {},
     "output_type": "display_data"
    },
    {
     "data": {
      "application/vnd.jupyter.widget-view+json": {
       "model_id": "",
       "version_major": 2,
       "version_minor": 0
      },
      "text/plain": [
       "FloatProgress(value=0.0, bar_style='info', description='Progress:', layout=Layout(height='25px', width='50%'),…"
      ]
     },
     "metadata": {},
     "output_type": "display_data"
    },
    {
     "name": "stdout",
     "output_type": "stream",
     "text": [
      "+-----+-----+\n",
      "|churn|count|\n",
      "+-----+-----+\n",
      "|    1| 5003|\n",
      "|    0|17275|\n",
      "+-----+-----+"
     ]
    }
   ],
   "source": [
    "# Check target balance\n",
    "preprocessed_df.groupby('churn').count().show()\n",
    "\n",
    "# churn <---> 22.5%"
   ]
  },
  {
   "cell_type": "markdown",
   "metadata": {},
   "source": [
    "**Step 2**: Prepare transformers to collect feature vector\n",
    "\n",
    "Used features:\n",
    "* Apply TF-IDF to artist list, song list and page list. We limit vocabSize to 100 elements\n",
    "* Beside TF-IDF generated features keep session frequency, avg number of songs per session, lifetime, gender, paid, agent based features"
   ]
  },
  {
   "cell_type": "code",
   "execution_count": 8,
   "metadata": {},
   "outputs": [
    {
     "data": {
      "application/vnd.jupyter.widget-view+json": {
       "model_id": "d8a3b3f6bf2346ce86a02575448738f5",
       "version_major": 2,
       "version_minor": 0
      },
      "text/plain": [
       "VBox()"
      ]
     },
     "metadata": {},
     "output_type": "display_data"
    },
    {
     "data": {
      "application/vnd.jupyter.widget-view+json": {
       "model_id": "",
       "version_major": 2,
       "version_minor": 0
      },
      "text/plain": [
       "FloatProgress(value=0.0, bar_style='info', description='Progress:', layout=Layout(height='25px', width='50%'),…"
      ]
     },
     "metadata": {},
     "output_type": "display_data"
    }
   ],
   "source": [
    "def tf_idf_transformer(list_name: str,\n",
    "                       vocabSize: int=100):\n",
    "    \"\"\"\n",
    "    Combines TF and IDF pyspark transformers\n",
    "    ------------\n",
    "    \n",
    "    Args:\n",
    "        list_name (string) : prefix of the feature with work list in the format\n",
    "            prefix_list\n",
    "        vocabSize (int)    : number of top-output words to keep\n",
    "    \n",
    "    Returns:\n",
    "        tf transformer, idf transformer\n",
    "    \"\"\"\n",
    "    tf = CountVectorizer(inputCol=f\"{list_name}_list\", outputCol=f\"TF_{list_name}\", vocabSize=vocabSize)\n",
    "    tf_idf = IDF(inputCol=f\"TF_{list_name}\", outputCol=f\"TFIDF_{list_name}\")\n",
    "    return tf, tf_idf\n",
    "\n",
    "\n",
    "artist_tf, artist_tf_idf = tf_idf_transformer('artist')\n",
    "song_tf, song_tf_idf = tf_idf_transformer('song')\n",
    "page_tf, page_tf_idf = tf_idf_transformer('page')\n",
    "\n",
    "assembler = VectorAssembler(inputCols=[\"TFIDF_artist\", \"TFIDF_song\", \"TFIDF_page\",\n",
    "                                       \"session_freq\", \"song_per_session\", \n",
    "                                       \"lifetime\", \"gender_Male\", \n",
    "                                       \"is_paid\", \"agent_Windows\",\n",
    "                                       \"agent_Mac\", \"agent_iPhone\", \"agent_iPad\", \n",
    "                                       \"agent_Linux\"], \n",
    "                            outputCol=\"features\", \n",
    "                            handleInvalid=\"skip\")\n",
    "\n",
    "\n",
    "feature_pipeline = Pipeline(stages=[artist_tf, artist_tf_idf, \n",
    "                                   song_tf, song_tf_idf,\n",
    "                                   page_tf, page_tf_idf,\n",
    "                                   assembler\n",
    "                                   ])"
   ]
  },
  {
   "cell_type": "code",
   "execution_count": 9,
   "metadata": {
    "scrolled": true
   },
   "outputs": [
    {
     "data": {
      "application/vnd.jupyter.widget-view+json": {
       "model_id": "39b201cb12b546fdb5512394bb451c0d",
       "version_major": 2,
       "version_minor": 0
      },
      "text/plain": [
       "VBox()"
      ]
     },
     "metadata": {},
     "output_type": "display_data"
    },
    {
     "data": {
      "application/vnd.jupyter.widget-view+json": {
       "model_id": "",
       "version_major": 2,
       "version_minor": 0
      },
      "text/plain": [
       "FloatProgress(value=0.0, bar_style='info', description='Progress:', layout=Layout(height='25px', width='50%'),…"
      ]
     },
     "metadata": {},
     "output_type": "display_data"
    },
    {
     "name": "stdout",
     "output_type": "stream",
     "text": [
      "22261"
     ]
    }
   ],
   "source": [
    "# test the pipeline\n",
    "test = feature_pipeline.fit(preprocessed_df)\n",
    "test_df = test.transform(preprocessed_df)\n",
    "test_df.count()"
   ]
  },
  {
   "cell_type": "code",
   "execution_count": 10,
   "metadata": {},
   "outputs": [
    {
     "data": {
      "application/vnd.jupyter.widget-view+json": {
       "model_id": "97da2b32ac554c05aa2ad85ffb6c054b",
       "version_major": 2,
       "version_minor": 0
      },
      "text/plain": [
       "VBox()"
      ]
     },
     "metadata": {},
     "output_type": "display_data"
    },
    {
     "data": {
      "application/vnd.jupyter.widget-view+json": {
       "model_id": "",
       "version_major": 2,
       "version_minor": 0
      },
      "text/plain": [
       "FloatProgress(value=0.0, bar_style='info', description='Progress:', layout=Layout(height='25px', width='50%'),…"
      ]
     },
     "metadata": {},
     "output_type": "display_data"
    }
   ],
   "source": [
    "# extract vocabularies for future explanations\n",
    "stages = test.stages\n",
    "vectorizers = [s for s in stages if isinstance(s, CountVectorizerModel)]\n",
    "vocab_dict = {}\n",
    "vocab_dict['artist'] = vectorizers[0].vocabulary\n",
    "vocab_dict['song'] = vectorizers[1].vocabulary\n",
    "vocab_dict['page'] = vectorizers[2].vocabulary\n",
    "\n",
    "\n",
    "# extract feature names after vector assembler\n",
    "attrs = sorted(\n",
    "    (attr[\"idx\"], attr[\"name\"]) for attr in (chain(*test_df\n",
    "        .schema[\"features\"]\n",
    "        .metadata[\"ml_attr\"][\"attrs\"].values())))"
   ]
  },
  {
   "cell_type": "markdown",
   "metadata": {},
   "source": [
    "# Modeling\n",
    "We split the full dataset into train (70%) and test (30%). During cross-validation process train data is additionally split into train and validation subsets. Test data is used only to check the model (nexer seen during training).\n",
    "\n",
    "We try 2 models:\n",
    "* Random Forest Classifier\n",
    "* Gradient Boosted Tree Classifier\n",
    "\n",
    "Note: since we use tree-based models, we don't don't need to scale numerical features.\n",
    "Our problem is imbalanced: 23% of positive cases (churn) and 67% of negative (stayed). Thus, we use F1-score to tune hyperparameters and check final quality of the model."
   ]
  },
  {
   "cell_type": "code",
   "execution_count": 11,
   "metadata": {},
   "outputs": [
    {
     "data": {
      "application/vnd.jupyter.widget-view+json": {
       "model_id": "6a6b2a04c84143bcbd83544d75e25df3",
       "version_major": 2,
       "version_minor": 0
      },
      "text/plain": [
       "VBox()"
      ]
     },
     "metadata": {},
     "output_type": "display_data"
    },
    {
     "data": {
      "application/vnd.jupyter.widget-view+json": {
       "model_id": "",
       "version_major": 2,
       "version_minor": 0
      },
      "text/plain": [
       "FloatProgress(value=0.0, bar_style='info', description='Progress:', layout=Layout(height='25px', width='50%'),…"
      ]
     },
     "metadata": {},
     "output_type": "display_data"
    }
   ],
   "source": [
    "(train_data, test_data) = preprocessed_df.randomSplit([0.7, 0.3], seed=10)\n",
    "\n",
    "# cache dataframes\n",
    "train_data = train_data.cache()\n",
    "test_data = test_data.cache()"
   ]
  },
  {
   "cell_type": "code",
   "execution_count": 12,
   "metadata": {},
   "outputs": [
    {
     "data": {
      "application/vnd.jupyter.widget-view+json": {
       "model_id": "2d8c15605d254b7f90cad845f53958d4",
       "version_major": 2,
       "version_minor": 0
      },
      "text/plain": [
       "VBox()"
      ]
     },
     "metadata": {},
     "output_type": "display_data"
    },
    {
     "data": {
      "application/vnd.jupyter.widget-view+json": {
       "model_id": "",
       "version_major": 2,
       "version_minor": 0
      },
      "text/plain": [
       "FloatProgress(value=0.0, bar_style='info', description='Progress:', layout=Layout(height='25px', width='50%'),…"
      ]
     },
     "metadata": {},
     "output_type": "display_data"
    }
   ],
   "source": [
    "def score_the_model(test_data: pyspark.sql.DataFrame, \n",
    "                    model: Pipeline, \n",
    "                    metric_name: str='accuracy'):\n",
    "    \"\"\"\n",
    "    Calculate model score by metric given in metric_name\n",
    "    --------------------\n",
    "    Args:\n",
    "        test_data (pyspark DataFrame): dataframe with test samples\n",
    "        model (Pipeline)             : pretrained model\n",
    "        metric_name (string)         : one of the MulticlassClassificationEvaluator metrics\n",
    "    Return:\n",
    "        None\n",
    "    \"\"\"\n",
    "    # Make predictions\n",
    "    predictions = model.transform(test_data)\n",
    "\n",
    "    # Set up evaluator and compute score\n",
    "    evaluator = MulticlassClassificationEvaluator(\n",
    "        labelCol=\"churn\", \n",
    "        predictionCol=\"prediction\", \n",
    "        metricName=metric_name)\n",
    "    score = evaluator.evaluate(predictions)\n",
    "    print(\"Score = \", score)"
   ]
  },
  {
   "cell_type": "code",
   "execution_count": 13,
   "metadata": {},
   "outputs": [
    {
     "data": {
      "application/vnd.jupyter.widget-view+json": {
       "model_id": "af898482315045328237ab0e79465ed5",
       "version_major": 2,
       "version_minor": 0
      },
      "text/plain": [
       "VBox()"
      ]
     },
     "metadata": {},
     "output_type": "display_data"
    },
    {
     "data": {
      "application/vnd.jupyter.widget-view+json": {
       "model_id": "",
       "version_major": 2,
       "version_minor": 0
      },
      "text/plain": [
       "FloatProgress(value=0.0, bar_style='info', description='Progress:', layout=Layout(height='25px', width='50%'),…"
      ]
     },
     "metadata": {},
     "output_type": "display_data"
    }
   ],
   "source": [
    "def rename(x: str,\n",
    "           vocab_dict: Dict) -> str:\n",
    "    \"\"\"\n",
    "    Rename raw attribute names according to vocabularies\n",
    "    ----------------\n",
    "    Args:\n",
    "        x (string) : original name\n",
    "        vocab_dict (Dict) : dictionary containing all vocabularies\n",
    "    Return:\n",
    "        string : new name\n",
    "    \"\"\"\n",
    "    if 'TFIDF' in x:\n",
    "        components = x.split('_')\n",
    "        new_components = components[:-1]\n",
    "        new_components.append(vocab_dict[components[1]][int(components[-1])])\n",
    "        new_x = '_'.join(new_components)\n",
    "    else:\n",
    "        new_x = x\n",
    "    return new_x"
   ]
  },
  {
   "cell_type": "markdown",
   "metadata": {},
   "source": [
    "### Random Forest Classifier"
   ]
  },
  {
   "cell_type": "code",
   "execution_count": 27,
   "metadata": {},
   "outputs": [
    {
     "data": {
      "application/vnd.jupyter.widget-view+json": {
       "model_id": "c154c7c668ff4fa094c9852fa2e5b797",
       "version_major": 2,
       "version_minor": 0
      },
      "text/plain": [
       "VBox()"
      ]
     },
     "metadata": {},
     "output_type": "display_data"
    },
    {
     "data": {
      "application/vnd.jupyter.widget-view+json": {
       "model_id": "",
       "version_major": 2,
       "version_minor": 0
      },
      "text/plain": [
       "FloatProgress(value=0.0, bar_style='info', description='Progress:', layout=Layout(height='25px', width='50%'),…"
      ]
     },
     "metadata": {},
     "output_type": "display_data"
    },
    {
     "name": "stderr",
     "output_type": "stream",
     "text": [
      "Exception in thread cell_monitor-27:\n",
      "Traceback (most recent call last):\n",
      "  File \"/opt/conda/lib/python3.7/threading.py\", line 926, in _bootstrap_inner\n",
      "    self.run()\n",
      "  File \"/opt/conda/lib/python3.7/threading.py\", line 870, in run\n",
      "    self._target(*self._args, **self._kwargs)\n",
      "  File \"/opt/conda/lib/python3.7/site-packages/awseditorssparkmonitoringwidget-1.0-py3.7.egg/awseditorssparkmonitoringwidget/cellmonitor.py\", line 178, in cell_monitor\n",
      "    job_binned_stages[job_id][stage_id] = all_stages[stage_id]\n",
      "KeyError: 2797\n",
      "\n"
     ]
    }
   ],
   "source": [
    "# Tune model\n",
    "rf = RandomForestClassifier(labelCol=\"churn\", featuresCol=\"features\", \n",
    "                            seed = 10)\n",
    "rf_pipeline = Pipeline(stages=[feature_pipeline, rf])\n",
    "\n",
    "# set parameters grid\n",
    "paramGrid = (ParamGridBuilder()\n",
    "            .addGrid(rf.maxDepth, [5, 7])\n",
    "            .addGrid(rf.numTrees, [50, 100])\n",
    "            .build()\n",
    "            )\n",
    "\n",
    "# choose evaluator\n",
    "evaluator = MulticlassClassificationEvaluator(labelCol=\"churn\", \n",
    "                                               predictionCol=\"prediction\", \n",
    "                                               metricName=\"f1\")\n",
    "\n",
    "# define cross-validator\n",
    "crossval = CrossValidator(estimator=rf_pipeline,\n",
    "                          estimatorParamMaps=paramGrid,\n",
    "                          evaluator=evaluator,\n",
    "                          numFolds=3,\n",
    "                          seed=10)\n",
    "\n",
    "# run cross-validation\n",
    "cvModel = crossval.fit(train_data)"
   ]
  },
  {
   "cell_type": "code",
   "execution_count": 28,
   "metadata": {},
   "outputs": [
    {
     "data": {
      "application/vnd.jupyter.widget-view+json": {
       "model_id": "6b821a73ceef404a88d657546e639c2a",
       "version_major": 2,
       "version_minor": 0
      },
      "text/plain": [
       "VBox()"
      ]
     },
     "metadata": {},
     "output_type": "display_data"
    },
    {
     "data": {
      "application/vnd.jupyter.widget-view+json": {
       "model_id": "",
       "version_major": 2,
       "version_minor": 0
      },
      "text/plain": [
       "FloatProgress(value=0.0, bar_style='info', description='Progress:', layout=Layout(height='25px', width='50%'),…"
      ]
     },
     "metadata": {},
     "output_type": "display_data"
    },
    {
     "name": "stdout",
     "output_type": "stream",
     "text": [
      "{Param(parent='RandomForestClassifier_454cc2d78dab', name='maxDepth', doc='Maximum depth of the tree. (>= 0) E.g., depth 0 means 1 leaf node; depth 1 means 1 internal node + 2 leaf nodes.'): 7, Param(parent='RandomForestClassifier_454cc2d78dab', name='numTrees', doc='Number of trees to train (>= 1).'): 50}"
     ]
    }
   ],
   "source": [
    "# check best combination of parameters\n",
    "cvModel.getEstimatorParamMaps()[ np.argmax(cvModel.avgMetrics) ]"
   ]
  },
  {
   "cell_type": "code",
   "execution_count": 29,
   "metadata": {
    "scrolled": true
   },
   "outputs": [
    {
     "data": {
      "application/vnd.jupyter.widget-view+json": {
       "model_id": "f3836b055f7f4f5b9ca4a03f52808658",
       "version_major": 2,
       "version_minor": 0
      },
      "text/plain": [
       "VBox()"
      ]
     },
     "metadata": {},
     "output_type": "display_data"
    },
    {
     "data": {
      "application/vnd.jupyter.widget-view+json": {
       "model_id": "",
       "version_major": 2,
       "version_minor": 0
      },
      "text/plain": [
       "FloatProgress(value=0.0, bar_style='info', description='Progress:', layout=Layout(height='25px', width='50%'),…"
      ]
     },
     "metadata": {},
     "output_type": "display_data"
    },
    {
     "name": "stdout",
     "output_type": "stream",
     "text": [
      "Score =  0.7805696127516474"
     ]
    }
   ],
   "source": [
    "# let's test it\n",
    "score_the_model(test_data, cvModel, metric_name='f1')"
   ]
  },
  {
   "cell_type": "code",
   "execution_count": 30,
   "metadata": {
    "scrolled": true
   },
   "outputs": [
    {
     "data": {
      "application/vnd.jupyter.widget-view+json": {
       "model_id": "599fe04ea3ad44ee94fee591bc252142",
       "version_major": 2,
       "version_minor": 0
      },
      "text/plain": [
       "VBox()"
      ]
     },
     "metadata": {},
     "output_type": "display_data"
    },
    {
     "data": {
      "application/vnd.jupyter.widget-view+json": {
       "model_id": "",
       "version_major": 2,
       "version_minor": 0
      },
      "text/plain": [
       "FloatProgress(value=0.0, bar_style='info', description='Progress:', layout=Layout(height='25px', width='50%'),…"
      ]
     },
     "metadata": {},
     "output_type": "display_data"
    }
   ],
   "source": [
    "# save model\n",
    "cvModel.bestModel.write().overwrite().save(my_storage + \"/saved_models/rf_model\")"
   ]
  },
  {
   "cell_type": "code",
   "execution_count": 31,
   "metadata": {},
   "outputs": [
    {
     "data": {
      "application/vnd.jupyter.widget-view+json": {
       "model_id": "8d4d3b9b1886484c9b4b6f140f9ed843",
       "version_major": 2,
       "version_minor": 0
      },
      "text/plain": [
       "VBox()"
      ]
     },
     "metadata": {},
     "output_type": "display_data"
    },
    {
     "data": {
      "application/vnd.jupyter.widget-view+json": {
       "model_id": "",
       "version_major": 2,
       "version_minor": 0
      },
      "text/plain": [
       "FloatProgress(value=0.0, bar_style='info', description='Progress:', layout=Layout(height='25px', width='50%'),…"
      ]
     },
     "metadata": {},
     "output_type": "display_data"
    }
   ],
   "source": [
    "# load model\n",
    "persistedModel = PipelineModel.load(my_storage + \"/saved_models/rf_model\")"
   ]
  },
  {
   "cell_type": "code",
   "execution_count": 32,
   "metadata": {
    "scrolled": false
   },
   "outputs": [
    {
     "data": {
      "application/vnd.jupyter.widget-view+json": {
       "model_id": "2a4896daa734482ba99916c066e384c9",
       "version_major": 2,
       "version_minor": 0
      },
      "text/plain": [
       "VBox()"
      ]
     },
     "metadata": {},
     "output_type": "display_data"
    },
    {
     "data": {
      "application/vnd.jupyter.widget-view+json": {
       "model_id": "",
       "version_major": 2,
       "version_minor": 0
      },
      "text/plain": [
       "FloatProgress(value=0.0, bar_style='info', description='Progress:', layout=Layout(height='25px', width='50%'),…"
      ]
     },
     "metadata": {},
     "output_type": "display_data"
    },
    {
     "name": "stdout",
     "output_type": "stream",
     "text": [
      "     feature_name_raw  importance                 feature_name\n",
      "217      session_freq    0.320661                 session_freq\n",
      "219          lifetime    0.250284                     lifetime\n",
      "202      TFIDF_page_2    0.022534         TFIDF_page_Thumbs Up\n",
      "204      TFIDF_page_5    0.021398        TFIDF_page_Add Friend\n",
      "208      TFIDF_page_9    0.017630         TFIDF_page_Downgrade\n",
      "218  song_per_session    0.013578             song_per_session\n",
      "206      TFIDF_page_7    0.011557            TFIDF_page_Logout\n",
      "203      TFIDF_page_3    0.011242   TFIDF_page_Add to Playlist\n",
      "200      TFIDF_page_0    0.011202          TFIDF_page_NextSong\n",
      "201      TFIDF_page_1    0.010849              TFIDF_page_Home\n",
      "221           is_paid    0.009743                      is_paid\n",
      "207      TFIDF_page_8    0.009247       TFIDF_page_Thumbs Down\n",
      "205      TFIDF_page_6    0.008412             TFIDF_page_Login\n",
      "3      TFIDF_artist_3    0.006292   TFIDF_artist_Dwight Yoakam\n",
      "6      TFIDF_artist_6    0.005877  TFIDF_artist_The Black Keys\n",
      "15    TFIDF_artist_15    0.005783    TFIDF_artist_Taylor Swift\n",
      "27    TFIDF_artist_27    0.005601    TFIDF_artist_Foo Fighters\n",
      "8      TFIDF_artist_8    0.005372    TFIDF_artist_Jack Johnson\n",
      "102      TFIDF_song_2    0.005063           TFIDF_song_Revelry\n",
      "101      TFIDF_song_1    0.004576              TFIDF_song_Undo"
     ]
    }
   ],
   "source": [
    "feature_importance_tab = pd.DataFrame([(name, persistedModel.stages[-1].featureImportances[idx])\n",
    "                                       for idx, name in attrs\n",
    "                                       if persistedModel.stages[-1].featureImportances[idx]],\n",
    "                                      columns=['feature_name_raw', 'importance'])\n",
    "feature_importance_tab['feature_name'] = feature_importance_tab['feature_name_raw'].apply(lambda x: rename(x, vocab_dict))\n",
    "feature_importance_tab.sort_values(by='importance', ascending=False)[:20]"
   ]
  },
  {
   "cell_type": "code",
   "execution_count": 33,
   "metadata": {},
   "outputs": [
    {
     "data": {
      "application/vnd.jupyter.widget-view+json": {
       "model_id": "761b706105bf492c938290de18557e91",
       "version_major": 2,
       "version_minor": 0
      },
      "text/plain": [
       "VBox()"
      ]
     },
     "metadata": {},
     "output_type": "display_data"
    },
    {
     "data": {
      "application/vnd.jupyter.widget-view+json": {
       "model_id": "",
       "version_major": 2,
       "version_minor": 0
      },
      "text/plain": [
       "FloatProgress(value=0.0, bar_style='info', description='Progress:', layout=Layout(height='25px', width='50%'),…"
      ]
     },
     "metadata": {},
     "output_type": "display_data"
    }
   ],
   "source": [
    "feature_importance_tab.to_csv(my_storage+'rf_feature_importance.csv', index=False)"
   ]
  },
  {
   "cell_type": "markdown",
   "metadata": {},
   "source": [
    "### Gradient Boosted Tree classifier"
   ]
  },
  {
   "cell_type": "code",
   "execution_count": null,
   "metadata": {},
   "outputs": [
    {
     "data": {
      "application/vnd.jupyter.widget-view+json": {
       "model_id": "f44644df9dc541d59a17e3172eb37d1b",
       "version_major": 2,
       "version_minor": 0
      },
      "text/plain": [
       "VBox()"
      ]
     },
     "metadata": {},
     "output_type": "display_data"
    },
    {
     "data": {
      "application/vnd.jupyter.widget-view+json": {
       "model_id": "",
       "version_major": 2,
       "version_minor": 0
      },
      "text/plain": [
       "FloatProgress(value=0.0, bar_style='info', description='Progress:', layout=Layout(height='25px', width='50%'),…"
      ]
     },
     "metadata": {},
     "output_type": "display_data"
    },
    {
     "name": "stderr",
     "output_type": "stream",
     "text": [
      "Exception in thread cell_monitor-18:\n",
      "Traceback (most recent call last):\n",
      "  File \"/opt/conda/lib/python3.7/threading.py\", line 926, in _bootstrap_inner\n",
      "    self.run()\n",
      "  File \"/opt/conda/lib/python3.7/threading.py\", line 870, in run\n",
      "    self._target(*self._args, **self._kwargs)\n",
      "  File \"/opt/conda/lib/python3.7/site-packages/awseditorssparkmonitoringwidget-1.0-py3.7.egg/awseditorssparkmonitoringwidget/cellmonitor.py\", line 178, in cell_monitor\n",
      "    job_binned_stages[job_id][stage_id] = all_stages[stage_id]\n",
      "KeyError: 1597\n",
      "\n"
     ]
    }
   ],
   "source": [
    "# Tune model\n",
    "gbt = GBTClassifier(labelCol=\"churn\", featuresCol=\"features\", seed = 10)\n",
    "gbt_pipeline = Pipeline(stages=[feature_pipeline, gbt])\n",
    "\n",
    "# set parameters grid\n",
    "paramGrid = (ParamGridBuilder()\n",
    "            .addGrid(gbt.maxDepth, [3, 5])\n",
    "            .addGrid(gbt.maxIter, [5, 10])\n",
    "            .build()\n",
    "            )\n",
    "\n",
    "# choose evaluator\n",
    "evaluator = MulticlassClassificationEvaluator(labelCol=\"churn\", \n",
    "                                               predictionCol=\"prediction\", \n",
    "                                               metricName=\"f1\")\n",
    "\n",
    "# define cross-validator\n",
    "crossval = CrossValidator(estimator=gbt_pipeline,\n",
    "                          estimatorParamMaps=paramGrid,\n",
    "                          evaluator=evaluator,\n",
    "                          numFolds=3,\n",
    "                          seed=10)\n",
    "\n",
    "# run cross-validation\n",
    "cvModel = crossval.fit(train_data)"
   ]
  },
  {
   "cell_type": "code",
   "execution_count": null,
   "metadata": {},
   "outputs": [
    {
     "data": {
      "application/vnd.jupyter.widget-view+json": {
       "model_id": "c55e497210334b799121c88fdba4c322",
       "version_major": 2,
       "version_minor": 0
      },
      "text/plain": [
       "VBox()"
      ]
     },
     "metadata": {},
     "output_type": "display_data"
    },
    {
     "data": {
      "application/vnd.jupyter.widget-view+json": {
       "model_id": "",
       "version_major": 2,
       "version_minor": 0
      },
      "text/plain": [
       "FloatProgress(value=0.0, bar_style='info', description='Progress:', layout=Layout(height='25px', width='50%'),…"
      ]
     },
     "metadata": {},
     "output_type": "display_data"
    },
    {
     "name": "stdout",
     "output_type": "stream",
     "text": [
      "{Param(parent='GBTClassifier_d2bfce4b0817', name='maxDepth', doc='Maximum depth of the tree. (>= 0) E.g., depth 0 means 1 leaf node; depth 1 means 1 internal node + 2 leaf nodes.'): 5, Param(parent='GBTClassifier_d2bfce4b0817', name='maxIter', doc='max number of iterations (>= 0).'): 10}"
     ]
    }
   ],
   "source": [
    "# check best combination of parameters\n",
    "cvModel.getEstimatorParamMaps()[ np.argmax(cvModel.avgMetrics) ]"
   ]
  },
  {
   "cell_type": "code",
   "execution_count": null,
   "metadata": {
    "scrolled": false
   },
   "outputs": [
    {
     "data": {
      "application/vnd.jupyter.widget-view+json": {
       "model_id": "983bf57e33b64c21aebbd95f42d66e90",
       "version_major": 2,
       "version_minor": 0
      },
      "text/plain": [
       "VBox()"
      ]
     },
     "metadata": {},
     "output_type": "display_data"
    },
    {
     "data": {
      "application/vnd.jupyter.widget-view+json": {
       "model_id": "",
       "version_major": 2,
       "version_minor": 0
      },
      "text/plain": [
       "FloatProgress(value=0.0, bar_style='info', description='Progress:', layout=Layout(height='25px', width='50%'),…"
      ]
     },
     "metadata": {},
     "output_type": "display_data"
    },
    {
     "name": "stdout",
     "output_type": "stream",
     "text": [
      "Score =  0.8593792207860763"
     ]
    }
   ],
   "source": [
    "# let's test it\n",
    "score_the_model(test_data, cvModel, metric_name='f1')"
   ]
  },
  {
   "cell_type": "code",
   "execution_count": null,
   "metadata": {},
   "outputs": [
    {
     "data": {
      "application/vnd.jupyter.widget-view+json": {
       "model_id": "f1ba769351984257a0ba9696361fdfb4",
       "version_major": 2,
       "version_minor": 0
      },
      "text/plain": [
       "VBox()"
      ]
     },
     "metadata": {},
     "output_type": "display_data"
    },
    {
     "data": {
      "application/vnd.jupyter.widget-view+json": {
       "model_id": "",
       "version_major": 2,
       "version_minor": 0
      },
      "text/plain": [
       "FloatProgress(value=0.0, bar_style='info', description='Progress:', layout=Layout(height='25px', width='50%'),…"
      ]
     },
     "metadata": {},
     "output_type": "display_data"
    }
   ],
   "source": [
    "# save model\n",
    "cvModel.bestModel.write().overwrite().save(my_storage + \"/saved_models/gbt_model\")"
   ]
  },
  {
   "cell_type": "code",
   "execution_count": null,
   "metadata": {},
   "outputs": [
    {
     "data": {
      "application/vnd.jupyter.widget-view+json": {
       "model_id": "d21f032060be4469b2231b9bec5b87ea",
       "version_major": 2,
       "version_minor": 0
      },
      "text/plain": [
       "VBox()"
      ]
     },
     "metadata": {},
     "output_type": "display_data"
    },
    {
     "data": {
      "application/vnd.jupyter.widget-view+json": {
       "model_id": "",
       "version_major": 2,
       "version_minor": 0
      },
      "text/plain": [
       "FloatProgress(value=0.0, bar_style='info', description='Progress:', layout=Layout(height='25px', width='50%'),…"
      ]
     },
     "metadata": {},
     "output_type": "display_data"
    }
   ],
   "source": [
    "# load model\n",
    "persistedModel = PipelineModel.load(my_storage + \"/saved_models/gbt_model\")"
   ]
  },
  {
   "cell_type": "code",
   "execution_count": null,
   "metadata": {},
   "outputs": [
    {
     "data": {
      "application/vnd.jupyter.widget-view+json": {
       "model_id": "9de0d58d2b9245efbe72ff4de9f4f745",
       "version_major": 2,
       "version_minor": 0
      },
      "text/plain": [
       "VBox()"
      ]
     },
     "metadata": {},
     "output_type": "display_data"
    },
    {
     "data": {
      "application/vnd.jupyter.widget-view+json": {
       "model_id": "",
       "version_major": 2,
       "version_minor": 0
      },
      "text/plain": [
       "FloatProgress(value=0.0, bar_style='info', description='Progress:', layout=Layout(height='25px', width='50%'),…"
      ]
     },
     "metadata": {},
     "output_type": "display_data"
    },
    {
     "name": "stdout",
     "output_type": "stream",
     "text": [
      "    feature_name_raw  importance                         feature_name\n",
      "76      session_freq    0.217340                         session_freq\n",
      "64      TFIDF_page_2    0.106327                 TFIDF_page_Thumbs Up\n",
      "66      TFIDF_page_5    0.092529                TFIDF_page_Add Friend\n",
      "78          lifetime    0.088635                             lifetime\n",
      "77  song_per_session    0.086767                     song_per_session\n",
      "63      TFIDF_page_1    0.070272                      TFIDF_page_Home\n",
      "70      TFIDF_page_9    0.050510                 TFIDF_page_Downgrade\n",
      "68      TFIDF_page_7    0.026754                    TFIDF_page_Logout\n",
      "69      TFIDF_page_8    0.025402               TFIDF_page_Thumbs Down\n",
      "74     TFIDF_page_13    0.022753                   TFIDF_page_Upgrade\n",
      "79           is_paid    0.017192                              is_paid\n",
      "1     TFIDF_artist_1    0.013103                TFIDF_artist_Coldplay\n",
      "40     TFIDF_song_13    0.011670          TFIDF_song_Somebody To Love\n",
      "9    TFIDF_artist_13    0.010074             TFIDF_artist_OneRepublic\n",
      "67      TFIDF_page_6    0.009106                     TFIDF_page_Login\n",
      "72     TFIDF_page_11    0.008251                  TFIDF_page_Settings\n",
      "62      TFIDF_page_0    0.006997                  TFIDF_page_NextSong\n",
      "65      TFIDF_page_3    0.006239           TFIDF_page_Add to Playlist\n",
      "2     TFIDF_artist_2    0.006212  TFIDF_artist_Florence + The Machine\n",
      "73     TFIDF_page_12    0.005936                     TFIDF_page_About"
     ]
    }
   ],
   "source": [
    "feature_importance_tab = pd.DataFrame([(name, persistedModel.stages[-1].featureImportances[idx])\n",
    "                                       for idx, name in attrs\n",
    "                                       if persistedModel.stages[-1].featureImportances[idx]],\n",
    "                                      columns=['feature_name_raw', 'importance'])\n",
    "feature_importance_tab['feature_name'] = feature_importance_tab['feature_name_raw'].apply(lambda x: rename(x, vocab_dict))\n",
    "feature_importance_tab.sort_values(by='importance', ascending=False)[:20]"
   ]
  },
  {
   "cell_type": "code",
   "execution_count": 26,
   "metadata": {},
   "outputs": [
    {
     "data": {
      "application/vnd.jupyter.widget-view+json": {
       "model_id": "58a12f5294a54a91b74808b882a18a87",
       "version_major": 2,
       "version_minor": 0
      },
      "text/plain": [
       "VBox()"
      ]
     },
     "metadata": {},
     "output_type": "display_data"
    },
    {
     "data": {
      "application/vnd.jupyter.widget-view+json": {
       "model_id": "",
       "version_major": 2,
       "version_minor": 0
      },
      "text/plain": [
       "FloatProgress(value=0.0, bar_style='info', description='Progress:', layout=Layout(height='25px', width='50%'),…"
      ]
     },
     "metadata": {},
     "output_type": "display_data"
    }
   ],
   "source": [
    "feature_importance_tab.to_csv(my_storage+'gbt_feature_importance.csv', index=False)"
   ]
  },
  {
   "cell_type": "markdown",
   "metadata": {},
   "source": [
    "### Final check for pretrained models"
   ]
  },
  {
   "cell_type": "code",
   "execution_count": 34,
   "metadata": {},
   "outputs": [
    {
     "data": {
      "application/vnd.jupyter.widget-view+json": {
       "model_id": "982178dc43e24e31b5824d9c4f043f95",
       "version_major": 2,
       "version_minor": 0
      },
      "text/plain": [
       "VBox()"
      ]
     },
     "metadata": {},
     "output_type": "display_data"
    },
    {
     "data": {
      "application/vnd.jupyter.widget-view+json": {
       "model_id": "",
       "version_major": 2,
       "version_minor": 0
      },
      "text/plain": [
       "FloatProgress(value=0.0, bar_style='info', description='Progress:', layout=Layout(height='25px', width='50%'),…"
      ]
     },
     "metadata": {},
     "output_type": "display_data"
    }
   ],
   "source": [
    "# dictionary with paths\n",
    "path_dict = {'rf': my_storage + \"/saved_models/rf_model\",\n",
    "             'gbt': my_storage + \"/saved_models/gbt_model\"}"
   ]
  },
  {
   "cell_type": "code",
   "execution_count": 35,
   "metadata": {},
   "outputs": [
    {
     "data": {
      "application/vnd.jupyter.widget-view+json": {
       "model_id": "63571c12e3ab4c61bd0fa08ddf6cc397",
       "version_major": 2,
       "version_minor": 0
      },
      "text/plain": [
       "VBox()"
      ]
     },
     "metadata": {},
     "output_type": "display_data"
    },
    {
     "data": {
      "application/vnd.jupyter.widget-view+json": {
       "model_id": "",
       "version_major": 2,
       "version_minor": 0
      },
      "text/plain": [
       "FloatProgress(value=0.0, bar_style='info', description='Progress:', layout=Layout(height='25px', width='50%'),…"
      ]
     },
     "metadata": {},
     "output_type": "display_data"
    },
    {
     "name": "stdout",
     "output_type": "stream",
     "text": [
      "Score =  0.8593792207860763"
     ]
    }
   ],
   "source": [
    "# GBT F1-score\n",
    "pretrainedModel = PipelineModel.load(path_dict['gbt'])\n",
    "score_the_model(test_data, pretrainedModel, metric_name='f1')"
   ]
  },
  {
   "cell_type": "code",
   "execution_count": 38,
   "metadata": {},
   "outputs": [
    {
     "data": {
      "application/vnd.jupyter.widget-view+json": {
       "model_id": "336ec3951e5d420d8a8995de04da7c0d",
       "version_major": 2,
       "version_minor": 0
      },
      "text/plain": [
       "VBox()"
      ]
     },
     "metadata": {},
     "output_type": "display_data"
    },
    {
     "data": {
      "application/vnd.jupyter.widget-view+json": {
       "model_id": "",
       "version_major": 2,
       "version_minor": 0
      },
      "text/plain": [
       "FloatProgress(value=0.0, bar_style='info', description='Progress:', layout=Layout(height='25px', width='50%'),…"
      ]
     },
     "metadata": {},
     "output_type": "display_data"
    },
    {
     "name": "stdout",
     "output_type": "stream",
     "text": [
      "Score =  0.8686732554657084"
     ]
    }
   ],
   "source": [
    "# GBT Recall\n",
    "pretrainedModel = PipelineModel.load(path_dict['gbt'])\n",
    "score_the_model(test_data, pretrainedModel, metric_name='weightedRecall')"
   ]
  },
  {
   "cell_type": "code",
   "execution_count": 36,
   "metadata": {},
   "outputs": [
    {
     "data": {
      "application/vnd.jupyter.widget-view+json": {
       "model_id": "ecbe9a2f22e9445ab55823cd38671517",
       "version_major": 2,
       "version_minor": 0
      },
      "text/plain": [
       "VBox()"
      ]
     },
     "metadata": {},
     "output_type": "display_data"
    },
    {
     "data": {
      "application/vnd.jupyter.widget-view+json": {
       "model_id": "",
       "version_major": 2,
       "version_minor": 0
      },
      "text/plain": [
       "FloatProgress(value=0.0, bar_style='info', description='Progress:', layout=Layout(height='25px', width='50%'),…"
      ]
     },
     "metadata": {},
     "output_type": "display_data"
    },
    {
     "name": "stdout",
     "output_type": "stream",
     "text": [
      "Score =  0.7805696127516474"
     ]
    }
   ],
   "source": [
    "# RF F1-score\n",
    "pretrainedModel = PipelineModel.load(path_dict['rf'])\n",
    "score_the_model(test_data, pretrainedModel, metric_name='f1')"
   ]
  },
  {
   "cell_type": "code",
   "execution_count": 39,
   "metadata": {},
   "outputs": [
    {
     "data": {
      "application/vnd.jupyter.widget-view+json": {
       "model_id": "d584867db7884962ba3e6d2f5cd0ca03",
       "version_major": 2,
       "version_minor": 0
      },
      "text/plain": [
       "VBox()"
      ]
     },
     "metadata": {},
     "output_type": "display_data"
    },
    {
     "data": {
      "application/vnd.jupyter.widget-view+json": {
       "model_id": "",
       "version_major": 2,
       "version_minor": 0
      },
      "text/plain": [
       "FloatProgress(value=0.0, bar_style='info', description='Progress:', layout=Layout(height='25px', width='50%'),…"
      ]
     },
     "metadata": {},
     "output_type": "display_data"
    },
    {
     "name": "stdout",
     "output_type": "stream",
     "text": [
      "Score =  0.8250973345312967"
     ]
    }
   ],
   "source": [
    "# RF Recall\n",
    "pretrainedModel = PipelineModel.load(path_dict['rf'])\n",
    "score_the_model(test_data, pretrainedModel, metric_name='weightedRecall')"
   ]
  },
  {
   "cell_type": "code",
   "execution_count": null,
   "metadata": {},
   "outputs": [],
   "source": []
  }
 ],
 "metadata": {
  "kernelspec": {
   "display_name": "Python 3",
   "language": "python",
   "name": "python3"
  },
  "language_info": {
   "codemirror_mode": {
    "name": "ipython",
    "version": 3
   },
   "file_extension": ".py",
   "mimetype": "text/x-python",
   "name": "python",
   "nbconvert_exporter": "python",
   "pygments_lexer": "ipython3",
   "version": "3.8.3"
  }
 },
 "nbformat": 4,
 "nbformat_minor": 2
}
